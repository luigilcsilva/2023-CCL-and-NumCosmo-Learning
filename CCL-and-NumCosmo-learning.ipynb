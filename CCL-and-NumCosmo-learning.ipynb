{
 "cells": [
  {
   "cell_type": "markdown",
   "id": "137b8913",
   "metadata": {},
   "source": [
    "# CCL and Numcosmo - Learning"
   ]
  },
  {
   "cell_type": "markdown",
   "id": "ba44e1e9",
   "metadata": {},
   "source": [
    "First of all, let us import some useful packages."
   ]
  },
  {
   "cell_type": "code",
   "execution_count": 1,
   "id": "846f1de9",
   "metadata": {},
   "outputs": [],
   "source": [
    "######## GENERAL ########\n",
    "import numpy as np\n",
    "import matplotlib as mpl\n",
    "import matplotlib.pyplot as plt\n",
    "%matplotlib inline\n",
    "import math"
   ]
  },
  {
   "cell_type": "code",
   "execution_count": 2,
   "id": "c5e422b1",
   "metadata": {},
   "outputs": [],
   "source": [
    "######## NUM COSMO ########\n",
    "try:\n",
    "  import gi\n",
    "  gi.require_version('NumCosmo', '1.0')\n",
    "  gi.require_version('NumCosmoMath', '1.0')\n",
    "except:\n",
    "  pass\n",
    "\n",
    "from gi.repository import GObject\n",
    "from gi.repository import NumCosmo as Nc\n",
    "from gi.repository import NumCosmoMath as Ncm"
   ]
  },
  {
   "cell_type": "code",
   "execution_count": 3,
   "id": "7ee5dcf4",
   "metadata": {},
   "outputs": [],
   "source": [
    "######## CCL ########\n",
    "import pyccl as ccl"
   ]
  },
  {
   "cell_type": "markdown",
   "id": "41d11df8",
   "metadata": {},
   "source": [
    "Now, let us initialize the NumCosmo library."
   ]
  },
  {
   "cell_type": "code",
   "execution_count": 4,
   "id": "00c3e53a",
   "metadata": {},
   "outputs": [],
   "source": [
    "#  Initializing the library objects, this must be called before \n",
    "#  any other library function.\n",
    "#\n",
    "Ncm.cfg_init ()"
   ]
  },
  {
   "cell_type": "markdown",
   "id": "4dd483bb",
   "metadata": {},
   "source": [
    "### Defining the cosmological constants"
   ]
  },
  {
   "cell_type": "markdown",
   "id": "cdad2680",
   "metadata": {},
   "source": [
    "Here, the values of the cosmological constants are fixed in order to avoid problems when comparing NumCosmo and CCL results."
   ]
  },
  {
   "cell_type": "code",
   "execution_count": 5,
   "id": "7def4d6c",
   "metadata": {},
   "outputs": [],
   "source": [
    "Omega_c = 0.25   # The cold dark matter density fraction.\n",
    "\n",
    "Omega_b = 0.05   # The baryonic matter density fraction.\n",
    "\n",
    "Omega_k = 0.0    # The curvature density fraction.\n",
    "        \n",
    "h       = 0.7    # The hubble constant divided by 100 km/s/Mpc; unitless.\n",
    "\n",
    "A_s     = 2.1e-9 # The power spectrum normalization.\n",
    "\n",
    "n_s     = 0.96   # The primordial scalar perturbation spectral index.\n",
    "\n",
    "Neff    = 0    # The effective number of massless neutrinos present.\n",
    "\n",
    "w0 = -1.0        # The first order term of dark energy equation of state.\n",
    "\n",
    "wa = 0.0         # The second order term of dark energy equation of state."
   ]
  },
  {
   "cell_type": "markdown",
   "id": "04cc6b3e",
   "metadata": {},
   "source": [
    "### Defining the cosmological model"
   ]
  },
  {
   "cell_type": "markdown",
   "id": "79f9512c",
   "metadata": {},
   "source": [
    "First of all, I will define the CCL cosmological model."
   ]
  },
  {
   "cell_type": "code",
   "execution_count": 6,
   "id": "38d2d3df",
   "metadata": {},
   "outputs": [
    {
     "ename": "TypeError",
     "evalue": "Omeganuh2_vec() takes 6 positional arguments but 7 were given",
     "output_type": "error",
     "traceback": [
      "\u001b[0;31m---------------------------------------------------------------------------\u001b[0m",
      "\u001b[0;31mTypeError\u001b[0m                                 Traceback (most recent call last)",
      "Cell \u001b[0;32mIn [6], line 1\u001b[0m\n\u001b[0;32m----> 1\u001b[0m ccl_cosmo \u001b[38;5;241m=\u001b[39m \u001b[43mccl\u001b[49m\u001b[38;5;241;43m.\u001b[39;49m\u001b[43mCosmology\u001b[49m\u001b[43m(\u001b[49m\u001b[43mOmega_c\u001b[49m\u001b[38;5;241;43m=\u001b[39;49m\u001b[43mOmega_c\u001b[49m\u001b[43m,\u001b[49m\u001b[43m \u001b[49m\u001b[43mOmega_b\u001b[49m\u001b[38;5;241;43m=\u001b[39;49m\u001b[43mOmega_b\u001b[49m\u001b[43m,\u001b[49m\u001b[43m \u001b[49m\u001b[43mNeff\u001b[49m\u001b[38;5;241;43m=\u001b[39;49m\u001b[43mNeff\u001b[49m\u001b[43m,\u001b[49m\n\u001b[1;32m      2\u001b[0m \u001b[43m                          \u001b[49m\u001b[43mh\u001b[49m\u001b[38;5;241;43m=\u001b[39;49m\u001b[43mh\u001b[49m\u001b[43m,\u001b[49m\u001b[43m \u001b[49m\u001b[43mA_s\u001b[49m\u001b[43m \u001b[49m\u001b[38;5;241;43m=\u001b[39;49m\u001b[43m \u001b[49m\u001b[43mA_s\u001b[49m\u001b[43m,\u001b[49m\u001b[43m \u001b[49m\u001b[43mn_s\u001b[49m\u001b[38;5;241;43m=\u001b[39;49m\u001b[43mn_s\u001b[49m\u001b[43m,\u001b[49m\u001b[43m \u001b[49m\u001b[43mOmega_k\u001b[49m\u001b[38;5;241;43m=\u001b[39;49m\u001b[43mOmega_k\u001b[49m\u001b[43m,\u001b[49m\n\u001b[1;32m      3\u001b[0m \u001b[43m                          \u001b[49m\u001b[43mw0\u001b[49m\u001b[38;5;241;43m=\u001b[39;49m\u001b[43mw0\u001b[49m\u001b[43m,\u001b[49m\u001b[43m \u001b[49m\u001b[43mwa\u001b[49m\u001b[38;5;241;43m=\u001b[39;49m\u001b[43mwa\u001b[49m\u001b[43m,\u001b[49m\u001b[43m \u001b[49m\u001b[43mtransfer_function\u001b[49m\u001b[38;5;241;43m=\u001b[39;49m\u001b[38;5;124;43m'\u001b[39;49m\u001b[38;5;124;43meisenstein_hu\u001b[39;49m\u001b[38;5;124;43m'\u001b[39;49m\u001b[43m)\u001b[49m\n",
      "File \u001b[0;32m~/cosmology/CCL/pyccl/base/deprecations.py:198\u001b[0m, in \u001b[0;36mwarn_api.<locals>.wrapper\u001b[0;34m(*args, **kwargs)\u001b[0m\n\u001b[1;32m    194\u001b[0m kwargs\u001b[38;5;241m.\u001b[39mupdate(pos)\n\u001b[1;32m    195\u001b[0m kwargs \u001b[38;5;241m=\u001b[39m {param: kwargs[param]\n\u001b[1;32m    196\u001b[0m           \u001b[38;5;28;01mfor\u001b[39;00m param \u001b[38;5;129;01min\u001b[39;00m \u001b[38;5;28msorted\u001b[39m(kwargs, key\u001b[38;5;241m=\u001b[39m\u001b[38;5;28mlist\u001b[39m(params)\u001b[38;5;241m.\u001b[39mindex)}\n\u001b[0;32m--> 198\u001b[0m \u001b[38;5;28;01mreturn\u001b[39;00m \u001b[43mfunc\u001b[49m\u001b[43m(\u001b[49m\u001b[38;5;241;43m*\u001b[39;49m\u001b[38;5;241;43m*\u001b[39;49m\u001b[43mkwargs\u001b[49m\u001b[43m)\u001b[49m\n",
      "File \u001b[0;32m~/cosmology/CCL/pyccl/cosmology.py:343\u001b[0m, in \u001b[0;36mCosmology.__init__\u001b[0;34m(self, Omega_c, Omega_b, h, n_s, sigma8, A_s, Omega_k, Omega_g, Neff, m_nu, mass_split, w0, wa, T_CMB, bcm_log10Mc, bcm_etab, bcm_ks, mu_0, sigma_0, c1_mg, c2_mg, lambda_mg, z_mg, df_mg, transfer_function, matter_power_spectrum, baryons_power_spectrum, mass_function, halo_concentration, emulator_neutrinos, extra_parameters, T_ncdm)\u001b[0m\n\u001b[1;32m    325\u001b[0m \u001b[38;5;28mself\u001b[39m\u001b[38;5;241m.\u001b[39m_params_init_kwargs \u001b[38;5;241m=\u001b[39m \u001b[38;5;28mdict\u001b[39m(\n\u001b[1;32m    326\u001b[0m     Omega_c\u001b[38;5;241m=\u001b[39mOmega_c, Omega_b\u001b[38;5;241m=\u001b[39mOmega_b, h\u001b[38;5;241m=\u001b[39mh, n_s\u001b[38;5;241m=\u001b[39mn_s, sigma8\u001b[38;5;241m=\u001b[39msigma8,\n\u001b[1;32m    327\u001b[0m     A_s\u001b[38;5;241m=\u001b[39mA_s, Omega_k\u001b[38;5;241m=\u001b[39mOmega_k, Omega_g\u001b[38;5;241m=\u001b[39mOmega_g, Neff\u001b[38;5;241m=\u001b[39mNeff, m_nu\u001b[38;5;241m=\u001b[39mm_nu,\n\u001b[0;32m   (...)\u001b[0m\n\u001b[1;32m    332\u001b[0m     z_mg\u001b[38;5;241m=\u001b[39mz_mg, df_mg\u001b[38;5;241m=\u001b[39mdf_mg,\n\u001b[1;32m    333\u001b[0m     extra_parameters\u001b[38;5;241m=\u001b[39mextra_parameters)\n\u001b[1;32m    335\u001b[0m \u001b[38;5;28mself\u001b[39m\u001b[38;5;241m.\u001b[39m_config_init_kwargs \u001b[38;5;241m=\u001b[39m \u001b[38;5;28mdict\u001b[39m(\n\u001b[1;32m    336\u001b[0m     transfer_function\u001b[38;5;241m=\u001b[39mtransfer_function,\n\u001b[1;32m    337\u001b[0m     matter_power_spectrum\u001b[38;5;241m=\u001b[39mmatter_power_spectrum,\n\u001b[0;32m   (...)\u001b[0m\n\u001b[1;32m    340\u001b[0m     halo_concentration\u001b[38;5;241m=\u001b[39mhalo_concentration,\n\u001b[1;32m    341\u001b[0m     extra_parameters\u001b[38;5;241m=\u001b[39mextra_parameters)\n\u001b[0;32m--> 343\u001b[0m \u001b[38;5;28;43mself\u001b[39;49m\u001b[38;5;241;43m.\u001b[39;49m\u001b[43m_build_cosmo\u001b[49m\u001b[43m(\u001b[49m\u001b[43m)\u001b[49m\n\u001b[1;32m    345\u001b[0m \u001b[38;5;28mself\u001b[39m\u001b[38;5;241m.\u001b[39m_pk_lin \u001b[38;5;241m=\u001b[39m {}\n\u001b[1;32m    346\u001b[0m \u001b[38;5;28mself\u001b[39m\u001b[38;5;241m.\u001b[39m_pk_nl \u001b[38;5;241m=\u001b[39m {}\n",
      "File \u001b[0;32m~/cosmology/CCL/pyccl/cosmology.py:352\u001b[0m, in \u001b[0;36mCosmology._build_cosmo\u001b[0;34m(self)\u001b[0m\n\u001b[1;32m    349\u001b[0m \u001b[38;5;124;03m\"\"\"Assemble all of the input data into a valid ccl_cosmology object.\"\"\"\u001b[39;00m\n\u001b[1;32m    350\u001b[0m \u001b[38;5;66;03m# We have to make all of the C stuff that goes into a cosmology\u001b[39;00m\n\u001b[1;32m    351\u001b[0m \u001b[38;5;66;03m# and then we make the cosmology.\u001b[39;00m\n\u001b[0;32m--> 352\u001b[0m \u001b[38;5;28;43mself\u001b[39;49m\u001b[38;5;241;43m.\u001b[39;49m\u001b[43m_build_parameters\u001b[49m\u001b[43m(\u001b[49m\u001b[38;5;241;43m*\u001b[39;49m\u001b[38;5;241;43m*\u001b[39;49m\u001b[38;5;28;43mself\u001b[39;49m\u001b[38;5;241;43m.\u001b[39;49m\u001b[43m_params_init_kwargs\u001b[49m\u001b[43m)\u001b[49m\n\u001b[1;32m    353\u001b[0m \u001b[38;5;28mself\u001b[39m\u001b[38;5;241m.\u001b[39m_build_config(\u001b[38;5;241m*\u001b[39m\u001b[38;5;241m*\u001b[39m\u001b[38;5;28mself\u001b[39m\u001b[38;5;241m.\u001b[39m_config_init_kwargs)\n\u001b[1;32m    354\u001b[0m \u001b[38;5;28mself\u001b[39m\u001b[38;5;241m.\u001b[39mcosmo \u001b[38;5;241m=\u001b[39m lib\u001b[38;5;241m.\u001b[39mcosmology_create(\u001b[38;5;28mself\u001b[39m\u001b[38;5;241m.\u001b[39m_params, \u001b[38;5;28mself\u001b[39m\u001b[38;5;241m.\u001b[39m_config)\n",
      "File \u001b[0;32m~/cosmology/CCL/pyccl/cosmology.py:506\u001b[0m, in \u001b[0;36mCosmology._build_parameters\u001b[0;34m(self, Omega_c, Omega_b, h, n_s, sigma8, A_s, Omega_k, Neff, m_nu, mass_split, w0, wa, T_CMB, T_ncdm, bcm_log10Mc, bcm_etab, bcm_ks, mu_0, sigma_0, c1_mg, c2_mg, lambda_mg, z_mg, df_mg, Omega_g, extra_parameters)\u001b[0m\n\u001b[1;32m    504\u001b[0m rho_nu_rel \u001b[38;5;241m=\u001b[39m N_nu_rel \u001b[38;5;241m*\u001b[39m (\u001b[38;5;241m7\u001b[39m\u001b[38;5;241m/\u001b[39m\u001b[38;5;241m8\u001b[39m) \u001b[38;5;241m*\u001b[39m \u001b[38;5;241m4\u001b[39m \u001b[38;5;241m*\u001b[39m c\u001b[38;5;241m.\u001b[39mSTBOLTZ \u001b[38;5;241m/\u001b[39m c\u001b[38;5;241m.\u001b[39mCLIGHT\u001b[38;5;241m*\u001b[39m\u001b[38;5;241m*\u001b[39m\u001b[38;5;241m3\u001b[39m \u001b[38;5;241m*\u001b[39m T_nu\u001b[38;5;241m*\u001b[39m\u001b[38;5;241m*\u001b[39m\u001b[38;5;241m4\u001b[39m\n\u001b[1;32m    505\u001b[0m Omega_nu_rel \u001b[38;5;241m=\u001b[39m rho_nu_rel \u001b[38;5;241m/\u001b[39m rho_crit\n\u001b[0;32m--> 506\u001b[0m Omega_nu_mass \u001b[38;5;241m=\u001b[39m \u001b[38;5;28;43mself\u001b[39;49m\u001b[38;5;241;43m.\u001b[39;49m\u001b[43m_OmNuh2\u001b[49m\u001b[43m(\u001b[49m\u001b[43mnu_mass\u001b[49m\u001b[43m,\u001b[49m\u001b[43m \u001b[49m\u001b[43mN_nu_mass\u001b[49m\u001b[43m,\u001b[49m\u001b[43m \u001b[49m\u001b[43mT_CMB\u001b[49m\u001b[43m,\u001b[49m\u001b[43m \u001b[49m\u001b[43mT_ncdm\u001b[49m\u001b[43m)\u001b[49m \u001b[38;5;241m/\u001b[39m h\u001b[38;5;241m*\u001b[39m\u001b[38;5;241m*\u001b[39m\u001b[38;5;241m2\u001b[39m\n\u001b[1;32m    508\u001b[0m \u001b[38;5;28;01mif\u001b[39;00m N_nu_rel \u001b[38;5;241m<\u001b[39m \u001b[38;5;241m0\u001b[39m:\n\u001b[1;32m    509\u001b[0m     \u001b[38;5;28;01mraise\u001b[39;00m \u001b[38;5;167;01mValueError\u001b[39;00m(\u001b[38;5;124m\"\u001b[39m\u001b[38;5;124mUnphysical Neff and m_nu combination results to \u001b[39m\u001b[38;5;124m\"\u001b[39m\n\u001b[1;32m    510\u001b[0m                      \u001b[38;5;124m\"\u001b[39m\u001b[38;5;124mnegative number of relativistic neutrinos.\u001b[39m\u001b[38;5;124m\"\u001b[39m)\n",
      "File \u001b[0;32m~/cosmology/CCL/pyccl/cosmology.py:539\u001b[0m, in \u001b[0;36mCosmology._OmNuh2\u001b[0;34m(self, m_nu, N_nu_mass, T_CMB, T_ncdm)\u001b[0m\n\u001b[1;32m    537\u001b[0m \u001b[38;5;28;01mdef\u001b[39;00m \u001b[38;5;21m_OmNuh2\u001b[39m(\u001b[38;5;28mself\u001b[39m, m_nu, N_nu_mass, T_CMB, T_ncdm):\n\u001b[1;32m    538\u001b[0m     \u001b[38;5;66;03m# Compute OmNuh2 today.\u001b[39;00m\n\u001b[0;32m--> 539\u001b[0m     ret, st \u001b[38;5;241m=\u001b[39m \u001b[43mlib\u001b[49m\u001b[38;5;241;43m.\u001b[39;49m\u001b[43mOmeganuh2_vec\u001b[49m\u001b[43m(\u001b[49m\u001b[43mN_nu_mass\u001b[49m\u001b[43m,\u001b[49m\u001b[43m \u001b[49m\u001b[43mT_CMB\u001b[49m\u001b[43m,\u001b[49m\u001b[43m \u001b[49m\u001b[43mT_ncdm\u001b[49m\u001b[43m,\u001b[49m\u001b[43m \u001b[49m\u001b[43m[\u001b[49m\u001b[38;5;241;43m1\u001b[39;49m\u001b[43m]\u001b[49m\u001b[43m,\u001b[49m\u001b[43m \u001b[49m\u001b[43mm_nu\u001b[49m\u001b[43m,\u001b[49m\u001b[43m \u001b[49m\u001b[38;5;241;43m1\u001b[39;49m\u001b[43m,\u001b[49m\u001b[43m \u001b[49m\u001b[38;5;241;43m0\u001b[39;49m\u001b[43m)\u001b[49m\n\u001b[1;32m    540\u001b[0m     check(st)\n\u001b[1;32m    541\u001b[0m     \u001b[38;5;28;01mreturn\u001b[39;00m ret[\u001b[38;5;241m0\u001b[39m]\n",
      "\u001b[0;31mTypeError\u001b[0m: Omeganuh2_vec() takes 6 positional arguments but 7 were given"
     ]
    }
   ],
   "source": [
    "ccl_cosmo = ccl.Cosmology(Omega_c=Omega_c, Omega_b=Omega_b, Neff=Neff,\n",
    "                          h=h, A_s = A_s, n_s=n_s, Omega_k=Omega_k,\n",
    "                          w0=w0, wa=wa, transfer_function='eisenstein_hu')"
   ]
  }
 ],
 "metadata": {
  "kernelspec": {
   "display_name": "Python 3 (ipykernel)",
   "language": "python",
   "name": "python3"
  },
  "language_info": {
   "codemirror_mode": {
    "name": "ipython",
    "version": 3
   },
   "file_extension": ".py",
   "mimetype": "text/x-python",
   "name": "python",
   "nbconvert_exporter": "python",
   "pygments_lexer": "ipython3",
   "version": "3.10.6"
  }
 },
 "nbformat": 4,
 "nbformat_minor": 5
}
