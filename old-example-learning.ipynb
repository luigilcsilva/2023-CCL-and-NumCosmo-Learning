{
 "cells": [
  {
   "cell_type": "markdown",
   "id": "137b8913",
   "metadata": {},
   "source": [
    "# CCL and NumCosmo - Learning"
   ]
  },
  {
   "cell_type": "markdown",
   "id": "ba44e1e9",
   "metadata": {},
   "source": [
    "First of all, let us import some useful packages."
   ]
  },
  {
   "cell_type": "code",
   "execution_count": 1,
   "id": "846f1de9",
   "metadata": {},
   "outputs": [],
   "source": [
    "######## GENERAL ########\n",
    "import numpy as np\n",
    "import matplotlib as mpl\n",
    "import matplotlib.pyplot as plt\n",
    "%matplotlib inline\n",
    "import math"
   ]
  },
  {
   "cell_type": "code",
   "execution_count": 2,
   "id": "c5e422b1",
   "metadata": {},
   "outputs": [],
   "source": [
    "######## NUM COSMO ########\n",
    "try:\n",
    "  import gi\n",
    "  gi.require_version('NumCosmo', '1.0')\n",
    "  gi.require_version('NumCosmoMath', '1.0')\n",
    "except:\n",
    "  pass\n",
    "\n",
    "from gi.repository import GObject\n",
    "from gi.repository import NumCosmo as Nc\n",
    "from gi.repository import NumCosmoMath as Ncm"
   ]
  },
  {
   "cell_type": "code",
   "execution_count": 3,
   "id": "7ee5dcf4",
   "metadata": {},
   "outputs": [],
   "source": [
    "######## CCL ########\n",
    "import pyccl as ccl"
   ]
  },
  {
   "cell_type": "markdown",
   "id": "41d11df8",
   "metadata": {},
   "source": [
    "Now, let us initialize the NumCosmo library."
   ]
  },
  {
   "cell_type": "code",
   "execution_count": 4,
   "id": "00c3e53a",
   "metadata": {},
   "outputs": [],
   "source": [
    "#  Initializing the library objects, this must be called before \n",
    "#  any other library function.\n",
    "#\n",
    "Ncm.cfg_init ()"
   ]
  },
  {
   "cell_type": "markdown",
   "id": "4dd483bb",
   "metadata": {},
   "source": [
    "### Defining the cosmological constants"
   ]
  },
  {
   "cell_type": "markdown",
   "id": "cdad2680",
   "metadata": {},
   "source": [
    "Here, the values of the cosmological constants are fixed in order to avoid problems when comparing NumCosmo and CCL results."
   ]
  },
  {
   "cell_type": "code",
   "execution_count": 5,
   "id": "7def4d6c",
   "metadata": {},
   "outputs": [],
   "source": [
    "Omega_c = 0.25   # The cold dark matter density fraction.\n",
    "\n",
    "Omega_b = 0.05   # The baryonic matter density fraction.\n",
    "\n",
    "Omega_k = 0.0    # The curvature density fraction.\n",
    "        \n",
    "h       = 0.7    # The hubble constant divided by 100 km/s/Mpc; unitless.\n",
    "\n",
    "A_s     = 2.1e-9 # The power spectrum normalization.\n",
    "\n",
    "n_s     = 0.96   # The primordial scalar perturbation spectral index.\n",
    "\n",
    "Neff    = 3.046    # The effective number of massless neutrinos present.\n",
    "\n",
    "w0 = -1.0        # The first order term of dark energy equation of state.\n",
    "\n",
    "wa = 0.0         # The second order term of dark energy equation of state."
   ]
  },
  {
   "cell_type": "markdown",
   "id": "04cc6b3e",
   "metadata": {},
   "source": [
    "### Defining the cosmological model"
   ]
  },
  {
   "cell_type": "markdown",
   "id": "79f9512c",
   "metadata": {},
   "source": [
    "First of all, I will define the CCL cosmological model."
   ]
  },
  {
   "cell_type": "code",
   "execution_count": 6,
   "id": "38d2d3df",
   "metadata": {},
   "outputs": [],
   "source": [
    "ccl_cosmo = ccl.Cosmology(Omega_c=Omega_c, Omega_b=Omega_b, Neff=Neff,\n",
    "                          h=h, A_s = A_s, n_s=n_s, Omega_k=Omega_k,\n",
    "                          w0=w0, wa=wa, transfer_function='eisenstein_hu')"
   ]
  },
  {
   "cell_type": "markdown",
   "id": "0e45596b",
   "metadata": {},
   "source": [
    "Now, I will define the NumCosmo cosmological model using the same parameters as CCL."
   ]
  },
  {
   "cell_type": "code",
   "execution_count": 7,
   "id": "ffead482",
   "metadata": {},
   "outputs": [],
   "source": [
    "########################################################################\n",
    "### NcHICosmo — Abstract class for implementing homogeneous and isotropic cosmological models\n",
    "### NcHICosmoDECpl — Dark Energy -- Chevallier–Polarski–Linder equation of state\n",
    "### nc_hicosmo_new_from_name (GType parent_type, gchar *cosmo_name): Creates a new instance of \"cosmo_name\", \n",
    "#                                                                    asserting that it descends from \"parent_type\".\n",
    "nc_cosmo = Nc.HICosmo.new_from_name (Nc.HICosmo, \"NcHICosmoDECpl{'massnu-length':<0>}\")\n",
    "\n",
    "### Source: https://numcosmo.github.io/manual/NcHICosmo.html#nc-hicosmo-new-from-name\n",
    "### Source: https://numcosmo.github.io/manual/NcHICosmoDECpl.html (Theory)\n",
    "\n",
    "### massnu-length: this depends on how many neutrinos types we are considering to be massive or massless.\n",
    "########################################################################\n",
    "\n",
    "\n",
    "\n",
    "########################################################################\n",
    "nc_cosmo.omega_x2omega_k ()\n",
    "\n",
    "### This line is for us to work with Omega_k as a parameter instead of Omega_x (dark energy). If we don't have this\n",
    "### line, we will automatically be working with Omega_x.\n",
    "########################################################################\n",
    "\n",
    "\n",
    "\n",
    "########################################################################\n",
    "nc_cosmo.param_set_by_name (\"Omegac\",    ccl_cosmo['Omega_c'])\n",
    "nc_cosmo.param_set_by_name (\"Omegab\",    ccl_cosmo['Omega_b'])\n",
    "#nc_cosmo.param_set_by_name (\"Omegax\",   0.7)\n",
    "nc_cosmo.param_set_by_name (\"Omegak\",    ccl_cosmo['Omega_k'])\n",
    "nc_cosmo.param_set_by_name (\"H0\",        ccl_cosmo['h']*100)\n",
    "nc_cosmo.param_set_by_name (\"ENnu\",      ccl_cosmo['Neff'])\n",
    "nc_cosmo.param_set_by_name (\"w0\",        ccl_cosmo['w0'])\n",
    "nc_cosmo.param_set_by_name (\"w1\",        ccl_cosmo['wa'])\n",
    "########################################################################\n",
    "\n"
   ]
  },
  {
   "cell_type": "markdown",
   "id": "bae0faa5",
   "metadata": {},
   "source": [
    "Now, I will define the function to perform distance calculations."
   ]
  },
  {
   "cell_type": "code",
   "execution_count": 8,
   "id": "01b02603",
   "metadata": {},
   "outputs": [],
   "source": [
    "########################################################################\n",
    "### NcDistance — Cosmological distance and time related quantities.\n",
    "### nc_distance_new (gdouble zf): Creates a new NcDistance object optimized to perform\n",
    "#                                 distance calculations to redshift up to zf.\n",
    "dist = Nc.Distance.new (5.0)\n",
    "\n",
    "### Source: https://numcosmo.github.io/manual/NcDistance.html (Theory)\n",
    "### Source: https://numcosmo.github.io/manual/NcDistance.html#nc-distance-new\n",
    "########################################################################\n",
    "\n",
    "\n",
    "\n",
    "########################################################################\n",
    "### nc_distance_prepare (NcDistance *dist, NcHICosmo *cosmo):This function prepares the object \"dist\" using \"cosmo\",\n",
    "#                                                            such that all the available distances functions can be\n",
    "#                                                            evaluated, e.g. nc_distance_comoving().\n",
    "dist.prepare (nc_cosmo)\n",
    "\n",
    "### Source: https://numcosmo.github.io/manual/NcDistance.html#nc-distance-prepare\n",
    "########################################################################"
   ]
  },
  {
   "cell_type": "markdown",
   "id": "28eb9110",
   "metadata": {},
   "source": [
    "Here, I will define the Transfer Function and the Power Spectrum to be used."
   ]
  },
  {
   "cell_type": "code",
   "execution_count": 9,
   "id": "e43361c1",
   "metadata": {},
   "outputs": [],
   "source": [
    "########################################################################\n",
    "### THIS IS NECESSARY FOR Nc.PowspecMLTransfer.\n",
    "### NcHIPrim — Abstract class for implementing homogeneous and isotropic primordial cosmological models.\n",
    "### NcHIPrimPowerLaw — Power law implementation for primordial spectra.\n",
    "\n",
    "hiprim = Nc.HIPrimPowerLaw.new ()\n",
    "hiprim.param_set_by_name (\"ln10e10ASA\", math.log (1.0e10 * ccl_cosmo['A_s']))\n",
    "hiprim.param_set_by_name (\"n_SA\", ccl_cosmo['n_s'])\n",
    "    \n",
    "nc_cosmo.add_submodel (hiprim)\n",
    "\n",
    "### Source: https://numcosmo.github.io/manual/NcHIPrimPowerLaw.html (Theory)\n",
    "\n",
    "########################################################################\n",
    "### NcTransferFunc — Abstrac class for perturbation transfer function.\n",
    "### NcTransferFuncEH — Eisenstein-Hu fitting function for the transfer function.\n",
    "### nc_transfer_func_eh_new (void): Creates a new NcTransferFunc of the NcTransferFuncEH type.\n",
    "\n",
    "tf_eh = Nc.TransferFuncEH.new ()\n",
    "\n",
    "### Source: https://numcosmo.github.io/manual/NcTransferFuncEH.html (Theory)\n",
    "########################################################################\n",
    "\n",
    "########################################################################\n",
    "### NcPowspecML — Abstract class for linear matter power spectrum implementation.\n",
    "### NcPowspecMLTransfer — Class for linear matter power spectrum from a transfer function.\n",
    "### nc_powspec_ml_transfer_new (NcTransferFunc *tf):Creates a new NcPowspecMLTransfer from the transfer function tf .\n",
    "\n",
    "ps_eh = Nc.PowspecMLTransfer.new (tf_eh)\n",
    "\n",
    "### Source: https://numcosmo.github.io/manual/NcPowspecMLTransfer.html (Theory)\n",
    "########################################################################\n",
    "\n",
    "########################################################################\n",
    "ps_eh.prepare (nc_cosmo)\n",
    "########################################################################"
   ]
  },
  {
   "cell_type": "markdown",
   "id": "c7846a50",
   "metadata": {},
   "source": [
    "Now, I will define the Mset. In Mset, we keep store a set of models for any posterior calculation."
   ]
  },
  {
   "cell_type": "code",
   "execution_count": 10,
   "id": "7dd0f9a3",
   "metadata": {},
   "outputs": [],
   "source": [
    "########################################################################\n",
    "#NcmMSet — A set of different NcmModel objects.\n",
    "#NcmModel — Abstract class for implementing models.\n",
    "mset = Ncm.MSet.empty_new ()\n",
    "mset.set (nc_cosmo)\n",
    "\n",
    "# No mset, \"guardamos\" um conjunto de modelos para cálculos posteriores.\n",
    "########################################################################"
   ]
  },
  {
   "cell_type": "markdown",
   "id": "eca160d0",
   "metadata": {},
   "source": [
    "### Getting the data - The data will be used in order to compute the angular power spectrum later"
   ]
  },
  {
   "cell_type": "code",
   "execution_count": null,
   "id": "42cc21f5",
   "metadata": {},
   "outputs": [],
   "source": []
  }
 ],
 "metadata": {
  "kernelspec": {
   "display_name": "Python 3 (ipykernel)",
   "language": "python",
   "name": "python3"
  },
  "language_info": {
   "codemirror_mode": {
    "name": "ipython",
    "version": 3
   },
   "file_extension": ".py",
   "mimetype": "text/x-python",
   "name": "python",
   "nbconvert_exporter": "python",
   "pygments_lexer": "ipython3",
   "version": "3.10.6"
  }
 },
 "nbformat": 4,
 "nbformat_minor": 5
}
